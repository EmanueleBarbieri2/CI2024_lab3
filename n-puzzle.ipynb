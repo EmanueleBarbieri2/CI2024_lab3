{
 "cells": [
  {
   "cell_type": "markdown",
   "metadata": {},
   "source": [
    "# N-Puzzle"
   ]
  },
  {
   "cell_type": "code",
   "execution_count": 62,
   "metadata": {},
   "outputs": [],
   "source": [
    "from collections import namedtuple\n",
    "from random import choice\n",
    "from tqdm.auto import tqdm\n",
    "import numpy as np"
   ]
  },
  {
   "cell_type": "code",
   "execution_count": 63,
   "metadata": {},
   "outputs": [],
   "source": [
    "PUZZLE_DIM = 3\n",
    "action = namedtuple('Action', ['pos1', 'pos2'])"
   ]
  },
  {
   "cell_type": "code",
   "execution_count": 64,
   "metadata": {},
   "outputs": [],
   "source": [
    "def available_actions(state: np.ndarray) -> list['Action']:\n",
    "    x, y = [int(_[0]) for _ in np.where(state == 0)]\n",
    "    actions = list()\n",
    "    if x > 0:\n",
    "        actions.append(action((x, y), (x - 1, y)))\n",
    "    if x < PUZZLE_DIM - 1:\n",
    "        actions.append(action((x, y), (x + 1, y)))\n",
    "    if y > 0:\n",
    "        actions.append(action((x, y), (x, y - 1)))\n",
    "    if y < PUZZLE_DIM - 1:\n",
    "        actions.append(action((x, y), (x, y + 1)))\n",
    "    return actions\n",
    "\n",
    "\n",
    "\n",
    "def do_action(state: np.ndarray, action: 'Action') -> np.ndarray:\n",
    "    new_state = state.copy()\n",
    "    new_state[action.pos1], new_state[action.pos2] = new_state[action.pos2], new_state[action.pos1]\n",
    "    return new_state"
   ]
  },
  {
   "cell_type": "code",
   "execution_count": 65,
   "metadata": {},
   "outputs": [
    {
     "name": "stderr",
     "output_type": "stream",
     "text": [
      "Randomizing: 100%|██████████| 100000/100000 [00:00<00:00, 143017.78it/s]\n"
     ]
    },
    {
     "data": {
      "text/plain": [
       "array([[6, 5, 1],\n",
       "       [4, 8, 3],\n",
       "       [0, 7, 2]])"
      ]
     },
     "execution_count": 65,
     "metadata": {},
     "output_type": "execute_result"
    }
   ],
   "source": [
    "RANDOMIZE_STEPS = 100_000\n",
    "state = np.array([i for i in range(1, PUZZLE_DIM**2)] + [0]).reshape((PUZZLE_DIM, PUZZLE_DIM))\n",
    "for r in tqdm(range(RANDOMIZE_STEPS), desc='Randomizing'):\n",
    "    state = do_action(state, choice(available_actions(state)))\n",
    "state"
   ]
  },
  {
   "cell_type": "markdown",
   "metadata": {},
   "source": [
    "## A* search"
   ]
  },
  {
   "cell_type": "code",
   "execution_count": 66,
   "metadata": {},
   "outputs": [
    {
     "ename": "ValueError",
     "evalue": "min() iterable argument is empty",
     "output_type": "error",
     "traceback": [
      "\u001b[0;31m---------------------------------------------------------------------------\u001b[0m",
      "\u001b[0;31mValueError\u001b[0m                                Traceback (most recent call last)",
      "Cell \u001b[0;32mIn[66], line 39\u001b[0m\n\u001b[1;32m     36\u001b[0m     \u001b[38;5;28mprint\u001b[39m(state)\n\u001b[1;32m     37\u001b[0m     \u001b[38;5;28mprint\u001b[39m(\u001b[38;5;124mf\u001b[39m\u001b[38;5;124m'\u001b[39m\u001b[38;5;124mCost: \u001b[39m\u001b[38;5;132;01m{\u001b[39;00mcost\u001b[38;5;132;01m}\u001b[39;00m\u001b[38;5;124m, Quality: \u001b[39m\u001b[38;5;132;01m{\u001b[39;00mgn\u001b[38;5;132;01m}\u001b[39;00m\u001b[38;5;124m, Efficiency: \u001b[39m\u001b[38;5;132;01m{\u001b[39;00meff\u001b[38;5;132;01m}\u001b[39;00m\u001b[38;5;124m'\u001b[39m)\n\u001b[0;32m---> 39\u001b[0m \u001b[43msolve\u001b[49m\u001b[43m(\u001b[49m\u001b[43mstate\u001b[49m\u001b[43m)\u001b[49m\n",
      "Cell \u001b[0;32mIn[66], line 33\u001b[0m, in \u001b[0;36msolve\u001b[0;34m(state)\u001b[0m\n\u001b[1;32m     30\u001b[0m             fn \u001b[38;5;241m=\u001b[39m gn \u001b[38;5;241m+\u001b[39m heuristic \u001b[38;5;66;03m# Compute f(n) = g(n) + h(n)\u001b[39;00m\n\u001b[1;32m     31\u001b[0m             possible_states\u001b[38;5;241m.\u001b[39mappend((new_state, fn))\n\u001b[0;32m---> 33\u001b[0m     state, fn \u001b[38;5;241m=\u001b[39m \u001b[38;5;28;43mmin\u001b[39;49m\u001b[43m(\u001b[49m\u001b[43mpossible_states\u001b[49m\u001b[43m,\u001b[49m\u001b[43m \u001b[49m\u001b[43mkey\u001b[49m\u001b[38;5;241;43m=\u001b[39;49m\u001b[38;5;28;43;01mlambda\u001b[39;49;00m\u001b[43m \u001b[49m\u001b[43mx\u001b[49m\u001b[43m:\u001b[49m\u001b[43m \u001b[49m\u001b[43mx\u001b[49m\u001b[43m[\u001b[49m\u001b[38;5;241;43m1\u001b[39;49m\u001b[43m]\u001b[49m\u001b[43m)\u001b[49m \u001b[38;5;66;03m# Choose state with minimum f(n)\u001b[39;00m\n\u001b[1;32m     34\u001b[0m     visited\u001b[38;5;241m.\u001b[39madd(\u001b[38;5;28mtuple\u001b[39m(\u001b[38;5;28mmap\u001b[39m(\u001b[38;5;28mtuple\u001b[39m, state))) \u001b[38;5;66;03m# Convert to hashable type\u001b[39;00m\n\u001b[1;32m     35\u001b[0m eff \u001b[38;5;241m=\u001b[39m efficiency(gn, cost) \u001b[38;5;66;03m# Compute efficiency\u001b[39;00m\n",
      "\u001b[0;31mValueError\u001b[0m: min() iterable argument is empty"
     ]
    }
   ],
   "source": [
    "def efficiency(quality, cost) -> float:\n",
    "    return quality / cost\n",
    "\n",
    "# Heuristic function defined as sum of manhattan distances of each tile from goal position\n",
    "def hn(state: np.ndarray) -> int:\n",
    "    h = 0\n",
    "    for i in range(PUZZLE_DIM):\n",
    "        for j in range(PUZZLE_DIM):\n",
    "            if state[i, j] != 0:\n",
    "                x, y = divmod(state[i, j] - 1, PUZZLE_DIM)\n",
    "                h += abs(x - i) + abs(y - j)\n",
    "    return h\n",
    "\n",
    "\n",
    "def solve(state: np.ndarray) -> None:\n",
    "    gn = 0\n",
    "    cost = 0\n",
    "    visited = set()\n",
    "    while not np.array_equal(state, np.array([i for i in range(1, PUZZLE_DIM**2)] + [0]).reshape((PUZZLE_DIM, PUZZLE_DIM))):\n",
    "        actions = available_actions(state) # List possible actions\n",
    "        cost += len(actions) # Add number of possible actions to cost\n",
    "        gn += 1 # Increase quality by 1\n",
    "        \n",
    "        possible_states = []\n",
    "        for action in actions:\n",
    "            new_state = do_action(state, action)\n",
    "            new_state_tuple = tuple(map(tuple, new_state)) # Convert to hashable type\n",
    "            if new_state_tuple not in visited:\n",
    "                heuristic = hn(new_state) # Calculate heuristic for current state\n",
    "                fn = gn + heuristic # Compute f(n) = g(n) + h(n)\n",
    "                possible_states.append((new_state, fn))\n",
    "        \n",
    "        state, fn = min(possible_states, key=lambda x: x[1]) # Choose state with minimum f(n)\n",
    "        visited.add(tuple(map(tuple, state))) # Convert to hashable type\n",
    "    eff = efficiency(gn, cost) # Compute efficiency\n",
    "    print(state)\n",
    "    print(f'Cost: {cost}, Quality: {gn}, Efficiency: {eff}')\n",
    "\n",
    "solve(state)"
   ]
  }
 ],
 "metadata": {
  "kernelspec": {
   "display_name": "Python 3",
   "language": "python",
   "name": "python3"
  },
  "language_info": {
   "codemirror_mode": {
    "name": "ipython",
    "version": 3
   },
   "file_extension": ".py",
   "mimetype": "text/x-python",
   "name": "python",
   "nbconvert_exporter": "python",
   "pygments_lexer": "ipython3",
   "version": "3.13.0"
  }
 },
 "nbformat": 4,
 "nbformat_minor": 2
}
